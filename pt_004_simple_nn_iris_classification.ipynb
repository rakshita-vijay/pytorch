{
  "nbformat": 4,
  "nbformat_minor": 0,
  "metadata": {
    "colab": {
      "provenance": [],
      "authorship_tag": "ABX9TyP44rTtBk8TUaKpzkFW9rGC",
      "include_colab_link": true
    },
    "kernelspec": {
      "name": "python3",
      "display_name": "Python 3"
    },
    "language_info": {
      "name": "python"
    }
  },
  "cells": [
    {
      "cell_type": "markdown",
      "metadata": {
        "id": "view-in-github",
        "colab_type": "text"
      },
      "source": [
        "<a href=\"https://colab.research.google.com/github/rakshita-vijay/pytorch/blob/main/pt_004_simple_nn_iris_classification.ipynb\" target=\"_parent\"><img src=\"https://colab.research.google.com/assets/colab-badge.svg\" alt=\"Open In Colab\"/></a>"
      ]
    },
    {
      "cell_type": "code",
      "execution_count": 1,
      "metadata": {
        "id": "CYYDfA9oLvOP"
      },
      "outputs": [],
      "source": [
        "import torch\n",
        "import torch.nn as nn\n",
        "import torch.nn.functional as F"
      ]
    },
    {
      "cell_type": "code",
      "source": [
        "# create a Model class that inherits the nn.Module\n",
        "class Model(nn.Module):\n",
        "  # input layer - 4 features of the flower -->\n",
        "  # hidden_layer1 (a number of neurons) -->\n",
        "  # hidden_layer2 (a number of neurons) -->\n",
        "  # output - one of our 3 classes of the iris flower\n",
        "  def __init__(self, in_features=4, h1=8, h2=9, out_features=3):\n",
        "    super().__init__() # instantiate our nn.Module\n",
        "    self.fc1 = nn.Linear(in_features, h1)\n",
        "    self.fc2 = nn.Linear(h1, h2)\n",
        "    self.out = nn.Linear(h2, out_features)\n",
        "\n",
        "  def forward(self, x):\n",
        "    # relu: rectified linear unit\n",
        "    x = F.relu(self.fc1(x))\n",
        "    x = F.relu(self.fc2(x))\n",
        "    x = self.out(x)\n",
        "\n",
        "    return x"
      ],
      "metadata": {
        "id": "lkDcYAqWL-19"
      },
      "execution_count": 2,
      "outputs": []
    },
    {
      "cell_type": "code",
      "source": [
        "# pick a manual seed for randomization\n",
        "torch.manual_seed(42)\n",
        "model = Model()"
      ],
      "metadata": {
        "id": "r0kI9vcHYH-W"
      },
      "execution_count": 3,
      "outputs": []
    },
    {
      "cell_type": "code",
      "source": [
        "import matplotlib.pyplot as plt\n",
        "%matplotlib inline"
      ],
      "metadata": {
        "id": "yTSsmVM8wV0P"
      },
      "execution_count": 4,
      "outputs": []
    },
    {
      "cell_type": "code",
      "source": [
        "import pandas as pd"
      ],
      "metadata": {
        "id": "5s2lBJQzxF_E"
      },
      "execution_count": 5,
      "outputs": []
    },
    {
      "cell_type": "code",
      "source": [
        "# get the data\n",
        "url = 'https://gist.githubusercontent.com/curran/a08a1080b88344b0c8a7/raw/0e7a9b0a5d22642a06d3d5b9bcbad9890c8ee534/iris.csv'\n",
        "my_df = pd.read_csv(url)"
      ],
      "metadata": {
        "id": "0eKM-WqCxIAk"
      },
      "execution_count": 6,
      "outputs": []
    },
    {
      "cell_type": "code",
      "source": [
        "# change strings in last column to integers\n",
        "my_df['species'] = my_df['species'].map({'setosa':0, 'versicolor':1, 'virginica':2})"
      ],
      "metadata": {
        "id": "lVhRAd3xxnBG"
      },
      "execution_count": 7,
      "outputs": []
    },
    {
      "cell_type": "code",
      "source": [
        "# train test slpit ; set x and y\n",
        "x = my_df.drop('species', axis=1)\n",
        "y = my_df['species']\n",
        "x, y"
      ],
      "metadata": {
        "colab": {
          "base_uri": "https://localhost:8080/"
        },
        "id": "SYJn4LNZx_Cp",
        "outputId": "2037e5ef-fedb-45e6-b1b0-1cbf3c574809"
      },
      "execution_count": 8,
      "outputs": [
        {
          "output_type": "execute_result",
          "data": {
            "text/plain": [
              "(     sepal_length  sepal_width  petal_length  petal_width\n",
              " 0             5.1          3.5           1.4          0.2\n",
              " 1             4.9          3.0           1.4          0.2\n",
              " 2             4.7          3.2           1.3          0.2\n",
              " 3             4.6          3.1           1.5          0.2\n",
              " 4             5.0          3.6           1.4          0.2\n",
              " ..            ...          ...           ...          ...\n",
              " 145           6.7          3.0           5.2          2.3\n",
              " 146           6.3          2.5           5.0          1.9\n",
              " 147           6.5          3.0           5.2          2.0\n",
              " 148           6.2          3.4           5.4          2.3\n",
              " 149           5.9          3.0           5.1          1.8\n",
              " \n",
              " [150 rows x 4 columns],\n",
              " 0      0\n",
              " 1      0\n",
              " 2      0\n",
              " 3      0\n",
              " 4      0\n",
              "       ..\n",
              " 145    2\n",
              " 146    2\n",
              " 147    2\n",
              " 148    2\n",
              " 149    2\n",
              " Name: species, Length: 150, dtype: int64)"
            ]
          },
          "metadata": {},
          "execution_count": 8
        }
      ]
    },
    {
      "cell_type": "code",
      "source": [
        "x = x.values\n",
        "y = y.values\n",
        "x, y"
      ],
      "metadata": {
        "colab": {
          "base_uri": "https://localhost:8080/"
        },
        "id": "rQ4gENoAM77g",
        "outputId": "ce85dd00-f1f9-44ae-ab41-e7960ecdccc6"
      },
      "execution_count": 9,
      "outputs": [
        {
          "output_type": "execute_result",
          "data": {
            "text/plain": [
              "(array([[5.1, 3.5, 1.4, 0.2],\n",
              "        [4.9, 3. , 1.4, 0.2],\n",
              "        [4.7, 3.2, 1.3, 0.2],\n",
              "        [4.6, 3.1, 1.5, 0.2],\n",
              "        [5. , 3.6, 1.4, 0.2],\n",
              "        [5.4, 3.9, 1.7, 0.4],\n",
              "        [4.6, 3.4, 1.4, 0.3],\n",
              "        [5. , 3.4, 1.5, 0.2],\n",
              "        [4.4, 2.9, 1.4, 0.2],\n",
              "        [4.9, 3.1, 1.5, 0.1],\n",
              "        [5.4, 3.7, 1.5, 0.2],\n",
              "        [4.8, 3.4, 1.6, 0.2],\n",
              "        [4.8, 3. , 1.4, 0.1],\n",
              "        [4.3, 3. , 1.1, 0.1],\n",
              "        [5.8, 4. , 1.2, 0.2],\n",
              "        [5.7, 4.4, 1.5, 0.4],\n",
              "        [5.4, 3.9, 1.3, 0.4],\n",
              "        [5.1, 3.5, 1.4, 0.3],\n",
              "        [5.7, 3.8, 1.7, 0.3],\n",
              "        [5.1, 3.8, 1.5, 0.3],\n",
              "        [5.4, 3.4, 1.7, 0.2],\n",
              "        [5.1, 3.7, 1.5, 0.4],\n",
              "        [4.6, 3.6, 1. , 0.2],\n",
              "        [5.1, 3.3, 1.7, 0.5],\n",
              "        [4.8, 3.4, 1.9, 0.2],\n",
              "        [5. , 3. , 1.6, 0.2],\n",
              "        [5. , 3.4, 1.6, 0.4],\n",
              "        [5.2, 3.5, 1.5, 0.2],\n",
              "        [5.2, 3.4, 1.4, 0.2],\n",
              "        [4.7, 3.2, 1.6, 0.2],\n",
              "        [4.8, 3.1, 1.6, 0.2],\n",
              "        [5.4, 3.4, 1.5, 0.4],\n",
              "        [5.2, 4.1, 1.5, 0.1],\n",
              "        [5.5, 4.2, 1.4, 0.2],\n",
              "        [4.9, 3.1, 1.5, 0.1],\n",
              "        [5. , 3.2, 1.2, 0.2],\n",
              "        [5.5, 3.5, 1.3, 0.2],\n",
              "        [4.9, 3.1, 1.5, 0.1],\n",
              "        [4.4, 3. , 1.3, 0.2],\n",
              "        [5.1, 3.4, 1.5, 0.2],\n",
              "        [5. , 3.5, 1.3, 0.3],\n",
              "        [4.5, 2.3, 1.3, 0.3],\n",
              "        [4.4, 3.2, 1.3, 0.2],\n",
              "        [5. , 3.5, 1.6, 0.6],\n",
              "        [5.1, 3.8, 1.9, 0.4],\n",
              "        [4.8, 3. , 1.4, 0.3],\n",
              "        [5.1, 3.8, 1.6, 0.2],\n",
              "        [4.6, 3.2, 1.4, 0.2],\n",
              "        [5.3, 3.7, 1.5, 0.2],\n",
              "        [5. , 3.3, 1.4, 0.2],\n",
              "        [7. , 3.2, 4.7, 1.4],\n",
              "        [6.4, 3.2, 4.5, 1.5],\n",
              "        [6.9, 3.1, 4.9, 1.5],\n",
              "        [5.5, 2.3, 4. , 1.3],\n",
              "        [6.5, 2.8, 4.6, 1.5],\n",
              "        [5.7, 2.8, 4.5, 1.3],\n",
              "        [6.3, 3.3, 4.7, 1.6],\n",
              "        [4.9, 2.4, 3.3, 1. ],\n",
              "        [6.6, 2.9, 4.6, 1.3],\n",
              "        [5.2, 2.7, 3.9, 1.4],\n",
              "        [5. , 2. , 3.5, 1. ],\n",
              "        [5.9, 3. , 4.2, 1.5],\n",
              "        [6. , 2.2, 4. , 1. ],\n",
              "        [6.1, 2.9, 4.7, 1.4],\n",
              "        [5.6, 2.9, 3.6, 1.3],\n",
              "        [6.7, 3.1, 4.4, 1.4],\n",
              "        [5.6, 3. , 4.5, 1.5],\n",
              "        [5.8, 2.7, 4.1, 1. ],\n",
              "        [6.2, 2.2, 4.5, 1.5],\n",
              "        [5.6, 2.5, 3.9, 1.1],\n",
              "        [5.9, 3.2, 4.8, 1.8],\n",
              "        [6.1, 2.8, 4. , 1.3],\n",
              "        [6.3, 2.5, 4.9, 1.5],\n",
              "        [6.1, 2.8, 4.7, 1.2],\n",
              "        [6.4, 2.9, 4.3, 1.3],\n",
              "        [6.6, 3. , 4.4, 1.4],\n",
              "        [6.8, 2.8, 4.8, 1.4],\n",
              "        [6.7, 3. , 5. , 1.7],\n",
              "        [6. , 2.9, 4.5, 1.5],\n",
              "        [5.7, 2.6, 3.5, 1. ],\n",
              "        [5.5, 2.4, 3.8, 1.1],\n",
              "        [5.5, 2.4, 3.7, 1. ],\n",
              "        [5.8, 2.7, 3.9, 1.2],\n",
              "        [6. , 2.7, 5.1, 1.6],\n",
              "        [5.4, 3. , 4.5, 1.5],\n",
              "        [6. , 3.4, 4.5, 1.6],\n",
              "        [6.7, 3.1, 4.7, 1.5],\n",
              "        [6.3, 2.3, 4.4, 1.3],\n",
              "        [5.6, 3. , 4.1, 1.3],\n",
              "        [5.5, 2.5, 4. , 1.3],\n",
              "        [5.5, 2.6, 4.4, 1.2],\n",
              "        [6.1, 3. , 4.6, 1.4],\n",
              "        [5.8, 2.6, 4. , 1.2],\n",
              "        [5. , 2.3, 3.3, 1. ],\n",
              "        [5.6, 2.7, 4.2, 1.3],\n",
              "        [5.7, 3. , 4.2, 1.2],\n",
              "        [5.7, 2.9, 4.2, 1.3],\n",
              "        [6.2, 2.9, 4.3, 1.3],\n",
              "        [5.1, 2.5, 3. , 1.1],\n",
              "        [5.7, 2.8, 4.1, 1.3],\n",
              "        [6.3, 3.3, 6. , 2.5],\n",
              "        [5.8, 2.7, 5.1, 1.9],\n",
              "        [7.1, 3. , 5.9, 2.1],\n",
              "        [6.3, 2.9, 5.6, 1.8],\n",
              "        [6.5, 3. , 5.8, 2.2],\n",
              "        [7.6, 3. , 6.6, 2.1],\n",
              "        [4.9, 2.5, 4.5, 1.7],\n",
              "        [7.3, 2.9, 6.3, 1.8],\n",
              "        [6.7, 2.5, 5.8, 1.8],\n",
              "        [7.2, 3.6, 6.1, 2.5],\n",
              "        [6.5, 3.2, 5.1, 2. ],\n",
              "        [6.4, 2.7, 5.3, 1.9],\n",
              "        [6.8, 3. , 5.5, 2.1],\n",
              "        [5.7, 2.5, 5. , 2. ],\n",
              "        [5.8, 2.8, 5.1, 2.4],\n",
              "        [6.4, 3.2, 5.3, 2.3],\n",
              "        [6.5, 3. , 5.5, 1.8],\n",
              "        [7.7, 3.8, 6.7, 2.2],\n",
              "        [7.7, 2.6, 6.9, 2.3],\n",
              "        [6. , 2.2, 5. , 1.5],\n",
              "        [6.9, 3.2, 5.7, 2.3],\n",
              "        [5.6, 2.8, 4.9, 2. ],\n",
              "        [7.7, 2.8, 6.7, 2. ],\n",
              "        [6.3, 2.7, 4.9, 1.8],\n",
              "        [6.7, 3.3, 5.7, 2.1],\n",
              "        [7.2, 3.2, 6. , 1.8],\n",
              "        [6.2, 2.8, 4.8, 1.8],\n",
              "        [6.1, 3. , 4.9, 1.8],\n",
              "        [6.4, 2.8, 5.6, 2.1],\n",
              "        [7.2, 3. , 5.8, 1.6],\n",
              "        [7.4, 2.8, 6.1, 1.9],\n",
              "        [7.9, 3.8, 6.4, 2. ],\n",
              "        [6.4, 2.8, 5.6, 2.2],\n",
              "        [6.3, 2.8, 5.1, 1.5],\n",
              "        [6.1, 2.6, 5.6, 1.4],\n",
              "        [7.7, 3. , 6.1, 2.3],\n",
              "        [6.3, 3.4, 5.6, 2.4],\n",
              "        [6.4, 3.1, 5.5, 1.8],\n",
              "        [6. , 3. , 4.8, 1.8],\n",
              "        [6.9, 3.1, 5.4, 2.1],\n",
              "        [6.7, 3.1, 5.6, 2.4],\n",
              "        [6.9, 3.1, 5.1, 2.3],\n",
              "        [5.8, 2.7, 5.1, 1.9],\n",
              "        [6.8, 3.2, 5.9, 2.3],\n",
              "        [6.7, 3.3, 5.7, 2.5],\n",
              "        [6.7, 3. , 5.2, 2.3],\n",
              "        [6.3, 2.5, 5. , 1.9],\n",
              "        [6.5, 3. , 5.2, 2. ],\n",
              "        [6.2, 3.4, 5.4, 2.3],\n",
              "        [5.9, 3. , 5.1, 1.8]]),\n",
              " array([0, 0, 0, 0, 0, 0, 0, 0, 0, 0, 0, 0, 0, 0, 0, 0, 0, 0, 0, 0, 0, 0,\n",
              "        0, 0, 0, 0, 0, 0, 0, 0, 0, 0, 0, 0, 0, 0, 0, 0, 0, 0, 0, 0, 0, 0,\n",
              "        0, 0, 0, 0, 0, 0, 1, 1, 1, 1, 1, 1, 1, 1, 1, 1, 1, 1, 1, 1, 1, 1,\n",
              "        1, 1, 1, 1, 1, 1, 1, 1, 1, 1, 1, 1, 1, 1, 1, 1, 1, 1, 1, 1, 1, 1,\n",
              "        1, 1, 1, 1, 1, 1, 1, 1, 1, 1, 1, 1, 2, 2, 2, 2, 2, 2, 2, 2, 2, 2,\n",
              "        2, 2, 2, 2, 2, 2, 2, 2, 2, 2, 2, 2, 2, 2, 2, 2, 2, 2, 2, 2, 2, 2,\n",
              "        2, 2, 2, 2, 2, 2, 2, 2, 2, 2, 2, 2, 2, 2, 2, 2, 2, 2]))"
            ]
          },
          "metadata": {},
          "execution_count": 9
        }
      ]
    },
    {
      "cell_type": "code",
      "source": [
        "from sklearn.model_selection import train_test_split"
      ],
      "metadata": {
        "id": "QeNaWDK0NShS"
      },
      "execution_count": 10,
      "outputs": []
    },
    {
      "cell_type": "code",
      "source": [
        "# train test split\n",
        "x_train, x_test, y_train, y_test = train_test_split(x, y, test_size=0.2, random_state=42)"
      ],
      "metadata": {
        "id": "ruhdjQu3NcEe"
      },
      "execution_count": 11,
      "outputs": []
    },
    {
      "cell_type": "code",
      "source": [
        "# x and y features to float tensors\n",
        "x_train = torch.FloatTensor(x_train)\n",
        "x_test = torch.FloatTensor(x_test)\n",
        "y_train = torch.LongTensor(y_train)\n",
        "y_test = torch.LongTensor(y_test)"
      ],
      "metadata": {
        "id": "6ikiInk4OHgk"
      },
      "execution_count": 12,
      "outputs": []
    },
    {
      "cell_type": "code",
      "source": [
        "# set the criterion of our model to measure the error - how far off the predictions are form the data\n",
        "criterion = nn.CrossEntropyLoss()\n",
        "\n",
        "# choose an optimizer and the learning rate - if our error doesn't go down after a bunch of iterations (epochs), we want to lower the learning rate\n",
        "adam_opti = torch.optim.Adam(model.parameters(), lr=0.01)\n",
        "# lower the learning rate, longer it takes to train"
      ],
      "metadata": {
        "id": "ZvCYCSYQOPx4"
      },
      "execution_count": 13,
      "outputs": []
    },
    {
      "cell_type": "code",
      "source": [
        "print(model.parameters)"
      ],
      "metadata": {
        "colab": {
          "base_uri": "https://localhost:8080/"
        },
        "id": "KRf7apAMPC7G",
        "outputId": "7bacb954-c6c1-4331-828a-1b9ab43b59c4"
      },
      "execution_count": 14,
      "outputs": [
        {
          "output_type": "stream",
          "name": "stdout",
          "text": [
            "<bound method Module.parameters of Model(\n",
            "  (fc1): Linear(in_features=4, out_features=8, bias=True)\n",
            "  (fc2): Linear(in_features=8, out_features=9, bias=True)\n",
            "  (out): Linear(in_features=9, out_features=3, bias=True)\n",
            ")>\n"
          ]
        }
      ]
    },
    {
      "cell_type": "code",
      "source": [
        "# train our model\n",
        "# epoch: one iteration through our training data\n",
        "# so, how many epochs?\n",
        "epochs = 100\n",
        "losses = []\n",
        "for i in range(epochs):\n",
        "  # go forward and get a prediction\n",
        "  y_pred = model.forward(x_train) # get predicted results\n",
        "\n",
        "  # measure loss/error - going to be high at first\n",
        "  loss = criterion(y_pred, y_train) # predicted value vs. y_train value\n",
        "\n",
        "  # keep track of losses\n",
        "  losses.append(loss.detach().numpy())\n",
        "\n",
        "  # print every 10 epochs\n",
        "  if i%10 == 0:\n",
        "    print(f\"Epoch: {i} ; loss: {loss}\")\n",
        "\n",
        "  # do some back propagation: take error rate of forward propagation, and feed it back through the network to finetune the weights\n",
        "  adam_opti.zero_grad()\n",
        "  loss.backward()\n",
        "  adam_opti.step()"
      ],
      "metadata": {
        "colab": {
          "base_uri": "https://localhost:8080/"
        },
        "id": "yc6_PhiRPaDg",
        "outputId": "144384ae-a79b-434a-e07a-90111347b656"
      },
      "execution_count": 15,
      "outputs": [
        {
          "output_type": "stream",
          "name": "stdout",
          "text": [
            "Epoch: 0 ; loss: 1.0846848487854004\n",
            "Epoch: 10 ; loss: 0.9183797240257263\n",
            "Epoch: 20 ; loss: 0.7622429132461548\n",
            "Epoch: 30 ; loss: 0.6273833513259888\n",
            "Epoch: 40 ; loss: 0.4667472243309021\n",
            "Epoch: 50 ; loss: 0.28770601749420166\n",
            "Epoch: 60 ; loss: 0.1673891693353653\n",
            "Epoch: 70 ; loss: 0.10598887503147125\n",
            "Epoch: 80 ; loss: 0.08021354675292969\n",
            "Epoch: 90 ; loss: 0.06947018206119537\n"
          ]
        }
      ]
    },
    {
      "cell_type": "code",
      "source": [
        "# graph it out\n",
        "plt.plot(range(epochs), losses)\n",
        "plt.ylabel('Loss/Error')\n",
        "plt.xlabel('Epoch')"
      ],
      "metadata": {
        "colab": {
          "base_uri": "https://localhost:8080/",
          "height": 466
        },
        "id": "vkQG2KPIRSW3",
        "outputId": "0c53ca0b-b604-4a1b-ffb3-57e3e5c6a30a"
      },
      "execution_count": 16,
      "outputs": [
        {
          "output_type": "execute_result",
          "data": {
            "text/plain": [
              "Text(0.5, 0, 'Epoch')"
            ]
          },
          "metadata": {},
          "execution_count": 16
        },
        {
          "output_type": "display_data",
          "data": {
            "text/plain": [
              "<Figure size 640x480 with 1 Axes>"
            ],
            "image/png": "[encoded data removed]"
          },
          "metadata": {}
        }
      ]
    },
    {
      "cell_type": "code",
      "source": [
        "# evaluate model on test data set (validate model on test set)\n",
        "test_losses = []\n",
        "\n",
        "with torch.no_grad(): # turns off back propagation\n",
        "  y_eval = model.forward(x_test) # x_text are features from test set\n",
        "  # y_eval is prediction\n",
        "\n",
        "  test_loss = criterion(y_eval, y_test)\n",
        "\n",
        "  test_losses.append(test_loss)"
      ],
      "metadata": {
        "id": "R3WTlTWATI1-"
      },
      "execution_count": 17,
      "outputs": []
    },
    {
      "cell_type": "code",
      "source": [
        "test_loss"
      ],
      "metadata": {
        "colab": {
          "base_uri": "https://localhost:8080/"
        },
        "id": "xhih1sVet2QG",
        "outputId": "d519228a-5a24-43ff-ea58-9ddaca231ebc"
      },
      "execution_count": 18,
      "outputs": [
        {
          "output_type": "execute_result",
          "data": {
            "text/plain": [
              "tensor(0.0634)"
            ]
          },
          "metadata": {},
          "execution_count": 18
        }
      ]
    },
    {
      "cell_type": "code",
      "source": [
        "correct = 0\n",
        "wrong = 0\n",
        "with torch.no_grad():\n",
        "  for i, data in enumerate(x_test):\n",
        "    y_val = model.forward(data)\n",
        "\n",
        "    # will tell us what type of iris our network thinks it is\n",
        "    print(f'{i+1}. {str(y_val)} \\t --> {y_val.argmax().item()} | {y_test[i]}')\n",
        "\n",
        "    # correct or not\n",
        "    if y_val.argmax().item() == y_test[i]:\n",
        "      correct += 1\n",
        "    else:\n",
        "      wrong += 1\n",
        "\n",
        "print(f\"{correct} correct! <3\")\n",
        "print(f\"{wrong} wrong\")"
      ],
      "metadata": {
        "colab": {
          "base_uri": "https://localhost:8080/"
        },
        "id": "R5ZBQS8It2nI",
        "outputId": "f04482b7-401f-409a-bd09-d23c1a311e70"
      },
      "execution_count": 19,
      "outputs": [
        {
          "output_type": "stream",
          "name": "stdout",
          "text": [
            "1. tensor([-1.4120,  6.3132,  2.6088]) \t --> 1 | 1\n",
            "2. tensor([ 8.4023,  2.4573, -7.5391]) \t --> 0 | 0\n",
            "3. tensor([-12.1991,   1.1829,  13.7443]) \t --> 2 | 2\n",
            "4. tensor([-1.6752,  5.9271,  2.8622]) \t --> 1 | 1\n",
            "5. tensor([-1.5887,  6.7559,  2.8371]) \t --> 1 | 1\n",
            "6. tensor([ 7.8451,  2.3289, -7.0010]) \t --> 0 | 0\n",
            "7. tensor([ 1.1273,  6.0707, -0.0493]) \t --> 1 | 1\n",
            "8. tensor([-5.2088,  4.4484,  6.5316]) \t --> 2 | 2\n",
            "9. tensor([-3.2614,  4.9128,  4.4788]) \t --> 1 | 1\n",
            "10. tensor([0.5683, 6.5565, 0.5445]) \t --> 1 | 1\n",
            "11. tensor([-4.3492,  4.7780,  5.6344]) \t --> 2 | 2\n",
            "12. tensor([ 7.3631,  2.0552, -6.5497]) \t --> 0 | 0\n",
            "13. tensor([ 8.1384,  2.3552, -7.2879]) \t --> 0 | 0\n",
            "14. tensor([ 7.4936,  2.1057, -6.6740]) \t --> 0 | 0\n",
            "15. tensor([ 7.8643,  2.2491, -7.0269]) \t --> 0 | 0\n",
            "16. tensor([-1.3322,  6.5325,  2.5448]) \t --> 1 | 1\n",
            "17. tensor([-8.2712,  2.4244,  9.6406]) \t --> 2 | 2\n",
            "18. tensor([0.3374, 6.4826, 0.7657]) \t --> 1 | 1\n",
            "19. tensor([-1.5909,  5.7677,  2.7565]) \t --> 1 | 1\n",
            "20. tensor([-8.1891,  2.2739,  9.5411]) \t --> 2 | 2\n",
            "21. tensor([ 7.2431,  2.0816, -6.4291]) \t --> 0 | 0\n",
            "22. tensor([-3.9169,  4.6616,  5.1603]) \t --> 2 | 2\n",
            "23. tensor([ 7.3462,  2.2806, -6.5133]) \t --> 0 | 0\n",
            "24. tensor([-7.8081,  2.5460,  9.1545]) \t --> 2 | 2\n",
            "25. tensor([-5.7146,  5.6767,  7.1671]) \t --> 2 | 2\n",
            "26. tensor([-6.1246,  3.7117,  7.4511]) \t --> 2 | 2\n",
            "27. tensor([-7.8021,  2.8851,  9.1732]) \t --> 2 | 2\n",
            "28. tensor([-8.0843,  2.8461,  9.4759]) \t --> 2 | 2\n",
            "29. tensor([ 7.2430,  2.0465, -6.4321]) \t --> 0 | 0\n",
            "30. tensor([ 7.1733,  2.1733, -6.3522]) \t --> 0 | 0\n",
            "30 correct! <3\n",
            "0 wrong\n"
          ]
        }
      ]
    },
    {
      "cell_type": "code",
      "source": [],
      "metadata": {
        "id": "9h4tr5kSwL1E"
      },
      "execution_count": 19,
      "outputs": []
    }
  ]
}